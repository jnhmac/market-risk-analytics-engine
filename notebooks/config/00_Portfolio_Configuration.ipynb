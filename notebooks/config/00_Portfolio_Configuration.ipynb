{
 "cells": [
  {
   "cell_type": "markdown",
   "metadata": {
    "application/vnd.databricks.v1+cell": {
     "cellMetadata": {},
     "inputWidgets": {},
     "nuid": "7ce1ae7a-7772-4ab2-96ad-a7fda8165b13",
     "showTitle": false,
     "tableResultSettingsMap": {},
     "title": ""
    }
   },
   "source": [
    "# 00 - Portfolio Configuration\n",
    "\n",
    "**Purpose:** Define AI portfolio structure and API configurations\n",
    "\n",
    "**Author:** Jonah A.  \n",
    "**Created:** 2025-07-30\n",
    "\n",
    "**Architecture Layer:** Configuration Management\n",
    "\n",
    "**Input:** Portfolio definitions and API credentials  \n",
    "**Output:** Portfolio symbols and settings for downstream processing\n",
    "\n",
    "**Business Value:** Centralized configuration for 15-stock AI portfolio risk analysis"
   ]
  },
  {
   "cell_type": "code",
   "execution_count": 0,
   "metadata": {
    "application/vnd.databricks.v1+cell": {
     "cellMetadata": {
      "byteLimit": 2048000,
      "rowLimit": 10000
     },
     "inputWidgets": {},
     "nuid": "fd91265e-b3df-4e98-b6e3-e40d48f2df45",
     "showTitle": false,
     "tableResultSettingsMap": {},
     "title": ""
    }
   },
   "outputs": [],
   "source": [
    "# Import required libraries\n",
    "from datetime import datetime, timedelta\n",
    "import json\n",
    "\n",
    "# Test Databricks environment\n",
    "print(\"🚀 Databricks environment ready!\")\n",
    "print(f\"Spark version: {spark.version}\")\n",
    "print(f\"Current timestamp: {datetime.now()}\")\n",
    "\n",
    "\n",
    "\n"
   ]
  },
  {
   "cell_type": "code",
   "execution_count": 0,
   "metadata": {
    "application/vnd.databricks.v1+cell": {
     "cellMetadata": {
      "byteLimit": 2048000,
      "rowLimit": 10000
     },
     "inputWidgets": {},
     "nuid": "e4b61890-f11a-4f57-8966-1d79991e9601",
     "showTitle": false,
     "tableResultSettingsMap": {},
     "title": ""
    }
   },
   "outputs": [],
   "source": [
    "# Configure Alpha Vantage API (using your API key)\n",
    "ALPHA_VANTAGE_API_KEY = \"5BNQA7JVK3N8FAMO\"\n",
    "ALPHA_VANTAGE_BASE_URL = \"https://www.alphavantage.co/query\"\n",
    "\n",
    "# Test API connection\n",
    "def test_alpha_vantage_connection():\n",
    "    import requests\n",
    "    test_url = f\"{ALPHA_VANTAGE_BASE_URL}?function=GLOBAL_QUOTE&symbol=AAPL&apikey={ALPHA_VANTAGE_API_KEY}\"\n",
    "    try:\n",
    "        response = requests.get(test_url)\n",
    "        if response.status_code == 200:\n",
    "            print(\"✅ Alpha Vantage API connection successful\")\n",
    "            return True\n",
    "        else:\n",
    "            print(f\"❌ API Error: {response.status_code}\")\n",
    "            return False\n",
    "    except Exception as e:\n",
    "        print(f\"❌ Connection failed: {e}\")\n",
    "        return False\n",
    "\n",
    "# Test the connection\n",
    "api_status = test_alpha_vantage_connection()"
   ]
  },
  {
   "cell_type": "code",
   "execution_count": 0,
   "metadata": {
    "application/vnd.databricks.v1+cell": {
     "cellMetadata": {
      "byteLimit": 2048000,
      "rowLimit": 10000
     },
     "inputWidgets": {},
     "nuid": "1dfb77ce-ec44-4126-af54-339ffe686c32",
     "showTitle": false,
     "tableResultSettingsMap": {},
     "title": ""
    }
   },
   "outputs": [],
   "source": [
    "# AI Portfolio Configuration \n",
    "portfolio_config = {\n",
    "    \"tier_1\": [\"NVDA\", \"MSFT\", \"GOOGL\", \"AMZN\", \"META\", \"AAPL\"],\n",
    "    \"tier_2\": [\"AMD\", \"CRM\", \"ORCL\"], \n",
    "    \"tier_3\": [\"PLTR\", \"AI\", \"SNOW\", \"MDB\", \"SMCI\"],\n",
    "    \"benchmark\": [\"BOTZ\"]\n",
    "}\n",
    "\n",
    "# Flatten all symbols for processing\n",
    "all_symbols = []\n",
    "for tier_symbols in portfolio_config.values():\n",
    "    all_symbols.extend(tier_symbols)\n",
    "\n",
    "print(f\"📊 Portfolio Summary:\")\n",
    "print(f\"Total symbols: {len(all_symbols)}\")\n",
    "print(f\"All symbols: {all_symbols}\")"
   ]
  },
  {
   "cell_type": "code",
   "execution_count": 0,
   "metadata": {
    "application/vnd.databricks.v1+cell": {
     "cellMetadata": {
      "byteLimit": 2048000,
      "rowLimit": 10000
     },
     "inputWidgets": {},
     "nuid": "a190fc98-ebf5-4930-b413-741c9fd2c330",
     "showTitle": false,
     "tableResultSettingsMap": {},
     "title": ""
    }
   },
   "outputs": [],
   "source": [
    "# Date configuration for historical data\n",
    "from datetime import datetime, timedelta\n",
    "\n",
    "# Historical data range (1+ year for risk analysis)\n",
    "end_date = datetime.now().date()\n",
    "start_date = end_date - timedelta(days=365)  # 1 year of data\n",
    "\n",
    "print(f\"📅 Data Range Configuration:\")\n",
    "print(f\"Start Date: {start_date}\")\n",
    "print(f\"End Date: {end_date}\")\n",
    "print(f\"Total Days: {(end_date - start_date).days}\")"
   ]
  }
 ],
 "metadata": {
  "application/vnd.databricks.v1+notebook": {
   "computePreferences": null,
   "dashboards": [],
   "environmentMetadata": {
    "base_environment": "",
    "environment_version": "2"
   },
   "inputWidgetPreferences": null,
   "language": "python",
   "notebookMetadata": {
    "pythonIndentUnit": 4
   },
   "notebookName": "00_Portfolio_Configuration",
   "widgets": {}
  },
  "language_info": {
   "name": "python"
  }
 },
 "nbformat": 4,
 "nbformat_minor": 0
}
