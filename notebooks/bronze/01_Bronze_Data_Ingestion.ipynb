{
 "cells": [
  {
   "cell_type": "markdown",
   "metadata": {
    "application/vnd.databricks.v1+cell": {
     "cellMetadata": {
      "byteLimit": 2048000,
      "rowLimit": 10000
     },
     "inputWidgets": {},
     "nuid": "619bdfd0-c662-4b79-8afb-ed6b20f95202",
     "showTitle": false,
     "tableResultSettingsMap": {},
     "title": ""
    }
   },
   "source": [
    "# 01 - Bronze Data Ingestion\n",
    "\n",
    "**Purpose:** Ingest raw market data from Yahoo Finance and Alpha Vantage APIs\n",
    "\n",
    "**Author:** Jonah A.\n",
    "**Created:** 2025-07-29\n",
    "\n",
    "**Architecture Layer:** Bronze (Raw Data)\n",
    "\n",
    "**Input:** Market APIs (Yahoo Finance, Alpha Vantage)  \n",
    "**Output:** `bronze_market_data_raw` Delta table\n",
    "\n",
    "**Business Value:** Foundation for AI portfolio risk analytics"
   ]
  },
  {
   "cell_type": "code",
   "execution_count": 0,
   "metadata": {
    "application/vnd.databricks.v1+cell": {
     "cellMetadata": {
      "byteLimit": 2048000,
      "rowLimit": 10000
     },
     "inputWidgets": {},
     "nuid": "ed726b6d-2f4c-4620-8b3a-e5f17035efd1",
     "showTitle": false,
     "tableResultSettingsMap": {},
     "title": ""
    }
   },
   "outputs": [],
   "source": [
    "# Configuration setup for Bronze layer\n",
    "from datetime import datetime, timedelta\n",
    "\n",
    "# Portfolio configuration\n",
    "portfolio_config = {\n",
    "    \"tier_1\": [\"NVDA\", \"MSFT\", \"GOOGL\", \"AMZN\", \"META\", \"AAPL\"],\n",
    "    \"tier_2\": [\"AMD\", \"CRM\", \"ORCL\"], \n",
    "    \"tier_3\": [\"PLTR\", \"AI\", \"SNOW\", \"MDB\", \"SMCI\"],\n",
    "    \"benchmark\": [\"BOTZ\"]\n",
    "}\n",
    "\n",
    "# Flatten all symbols\n",
    "all_symbols = []\n",
    "for tier_symbols in portfolio_config.values():\n",
    "    all_symbols.extend(tier_symbols)\n",
    "\n",
    "# Date configuration\n",
    "end_date = datetime.now().date()\n",
    "start_date = end_date - timedelta(days=365)\n",
    "\n",
    "# API configuration\n",
    "ALPHA_VANTAGE_API_KEY = \"5BNQA7JVK3N8FAMO\"\n",
    "ALPHA_VANTAGE_BASE_URL = \"https://www.alphavantage.co/query\"\n",
    "\n",
    "print(\"📥 Configuration Loaded:\")\n",
    "print(f\"Total symbols: {len(all_symbols)}\")\n",
    "print(f\"Date range: {start_date} to {end_date}\")\n",
    "print(f\"API Key configured: ✅\")"
   ]
  },
  {
   "cell_type": "code",
   "execution_count": 0,
   "metadata": {
    "application/vnd.databricks.v1+cell": {
     "cellMetadata": {
      "byteLimit": 2048000,
      "rowLimit": 10000
     },
     "inputWidgets": {},
     "nuid": "2afaa78a-c60f-4d3d-8eed-d9ad6ee4d3d0",
     "showTitle": false,
     "tableResultSettingsMap": {},
     "title": ""
    }
   },
   "outputs": [],
   "source": [
    "%pip install yfinance requests # Install and import required libraries\n",
    "\n",
    "# Import libraries\n",
    "import yfinance as yf\n",
    "import requests\n",
    "from pyspark.sql import functions as F\n",
    "from pyspark.sql.types import *\n",
    "import json\n",
    "\n",
    "print(\"📚 Libraries imported:\")\n",
    "print(\"✅ yfinance - for Yahoo Finance historical data\")\n",
    "print(\"✅ requests - for Alpha Vantage API calls\")\n",
    "print(\"✅ pyspark.sql - for Delta Lake operations\")"
   ]
  },
  {
   "cell_type": "code",
   "execution_count": 0,
   "metadata": {
    "application/vnd.databricks.v1+cell": {
     "cellMetadata": {
      "byteLimit": 2048000,
      "rowLimit": 10000
     },
     "inputWidgets": {},
     "nuid": "31818df2-89ba-4cb1-a32f-99b86c48255c",
     "showTitle": false,
     "tableResultSettingsMap": {},
     "title": ""
    }
   },
   "outputs": [],
   "source": [
    "# Test Yahoo Finance connection with one stock\n",
    "test_symbol = \"AAPL\"\n",
    "print(f\"🧪 Testing Yahoo Finance with {test_symbol}...\")\n",
    "\n",
    "try:\n",
    "    # Download 5 days of data as test\n",
    "    test_data = yf.download(test_symbol, period=\"5d\")\n",
    "    print(f\"✅ Yahoo Finance connection successful!\")\n",
    "    print(f\"Downloaded {len(test_data)} days of data for {test_symbol}\")\n",
    "    \n",
    "    # Fix multi-level column access\n",
    "    latest_close = float(test_data['Close']['AAPL'].iloc[-1])\n",
    "    print(f\"Latest close price: ${latest_close:.2f}\")\n",
    "except Exception as e:\n",
    "    print(f\"❌ Yahoo Finance test failed: {e}\")"
   ]
  },
  {
   "cell_type": "code",
   "execution_count": 0,
   "metadata": {
    "application/vnd.databricks.v1+cell": {
     "cellMetadata": {
      "byteLimit": 2048000,
      "rowLimit": 10000
     },
     "inputWidgets": {},
     "nuid": "a5244aaa-e008-4e5d-8ea5-13756e6f12f4",
     "showTitle": false,
     "tableResultSettingsMap": {},
     "title": ""
    }
   },
   "outputs": [],
   "source": [
    "# Fix the price display and show the data structure\n",
    "print(f\"📊 AAPL Test Data Details:\")\n",
    "print(f\"Number of trading days: {len(test_data)}\")\n",
    "print(f\"Data columns: {list(test_data.columns)}\")\n",
    "\n",
    "# Fix price display (convert to float first)\n",
    "latest_close = float(test_data['Close'].iloc[-1])\n",
    "print(f\"Latest close price: ${latest_close:.2f}\")\n",
    "\n",
    "# Show first few rows of data\n",
    "print(f\"\\n📈 Sample data:\")\n",
    "print(test_data.head(2))"
   ]
  },
  {
   "cell_type": "code",
   "execution_count": 0,
   "metadata": {
    "application/vnd.databricks.v1+cell": {
     "cellMetadata": {
      "byteLimit": 2048000,
      "rowLimit": 10000
     },
     "inputWidgets": {},
     "nuid": "5878cae6-37ca-40bf-9f5a-ee76f090675f",
     "showTitle": false,
     "tableResultSettingsMap": {},
     "title": ""
    }
   },
   "outputs": [],
   "source": [
    "# Define Bronze layer Delta table schema\n",
    "from pyspark.sql.types import StructType, StructField, StringType, DoubleType, LongType, TimestampType\n",
    "\n",
    "# Bronze layer schema: immutable raw data storage\n",
    "# Supports both Yahoo Finance and Alpha Vantage data sources\n",
    "bronze_schema = StructType([\n",
    "    StructField(\"ingestion_timestamp\", TimestampType(), True),  # When data was ingested\n",
    "    StructField(\"symbol\", StringType(), True),                 # Stock ticker (AAPL, NVDA, etc.)\n",
    "    StructField(\"date\", StringType(), True),                   # Trading date\n",
    "    StructField(\"open\", DoubleType(), True),                   # Opening price\n",
    "    StructField(\"high\", DoubleType(), True),                   # Daily high price\n",
    "    StructField(\"low\", DoubleType(), True),                    # Daily low price\n",
    "    StructField(\"close\", DoubleType(), True),                  # Closing price\n",
    "    StructField(\"volume\", LongType(), True),                   # Trading volume\n",
    "    StructField(\"data_source\", StringType(), True)             # yahoo_finance | alpha_vantage\n",
    "])\n",
    "\n",
    "# Temporary: print schema to verify structure (will remove later)\n",
    "print(\"🏗️ Bronze schema structure:\")\n",
    "for field in bronze_schema.fields:\n",
    "    print(f\"  {field.name}: {field.dataType}\")"
   ]
  },
  {
   "cell_type": "code",
   "execution_count": 0,
   "metadata": {
    "application/vnd.databricks.v1+cell": {
     "cellMetadata": {
      "byteLimit": 2048000,
      "rowLimit": 10000
     },
     "inputWidgets": {},
     "nuid": "a09647cd-d818-4825-9346-521e38c0e72c",
     "showTitle": false,
     "tableResultSettingsMap": {},
     "title": ""
    }
   },
   "outputs": [],
   "source": [
    "# Convert Yahoo Finance pandas DataFrame to Bronze format\n",
    "from datetime import datetime\n",
    "from pyspark.sql import Row\n",
    "\n",
    "def convert_yahoo_data_to_bronze(pandas_df, symbol, data_source=\"yahoo_finance\"):\n",
    "    \"\"\"Convert Yahoo Finance pandas DataFrame to Bronze format for Delta Lake\"\"\"\n",
    "    \n",
    "    bronze_rows = []\n",
    "    ingestion_time = datetime.now()\n",
    "    \n",
    "    # Handle Yahoo Finance multi-level columns (same logic as your local code!)\n",
    "    for date_idx, row in pandas_df.iterrows():\n",
    "        bronze_row = Row(\n",
    "            ingestion_timestamp=ingestion_time,\n",
    "            symbol=symbol,\n",
    "            date=str(date_idx.date()),  # Convert timestamp to date string\n",
    "            open=float(row[('Open', symbol)]),    # Multi-level column access\n",
    "            high=float(row[('High', symbol)]),\n",
    "            low=float(row[('Low', symbol)]),\n",
    "            close=float(row[('Close', symbol)]),\n",
    "            volume=int(row[('Volume', symbol)]),\n",
    "            data_source=data_source\n",
    "        )\n",
    "        bronze_rows.append(bronze_row)\n",
    "    \n",
    "    return bronze_rows\n",
    "\n"
   ]
  },
  {
   "cell_type": "code",
   "execution_count": 0,
   "metadata": {
    "application/vnd.databricks.v1+cell": {
     "cellMetadata": {
      "byteLimit": 2048000,
      "rowLimit": 10000
     },
     "inputWidgets": {},
     "nuid": "2c947172-0eda-4501-b3bf-0cdecb173c64",
     "showTitle": false,
     "tableResultSettingsMap": {},
     "title": ""
    }
   },
   "outputs": [],
   "source": [
    "# Re-download AAPL test data and test Bronze conversion\n",
    "test_symbol = \"AAPL\"\n",
    "test_data = yf.download(test_symbol, period=\"5d\")\n",
    "\n",
    "# Convert to Bronze format\n",
    "bronze_rows = convert_yahoo_data_to_bronze(test_data, \"AAPL\")\n",
    "\n",
    "print(f\"✅ Converted {len(bronze_rows)} rows to Bronze format\")\n",
    "print(\"\\n📊 Sample Bronze row:\")\n",
    "print(f\"Symbol: {bronze_rows[0].symbol}\")\n",
    "print(f\"Date: {bronze_rows[0].date}\")\n",
    "print(f\"Close: ${bronze_rows[0].close:.2f}\")\n",
    "print(f\"Data Source: {bronze_rows[0].data_source}\")"
   ]
  },
  {
   "cell_type": "code",
   "execution_count": 0,
   "metadata": {
    "application/vnd.databricks.v1+cell": {
     "cellMetadata": {
      "byteLimit": 2048000,
      "rowLimit": 10000
     },
     "inputWidgets": {},
     "nuid": "9acd0209-3fed-4142-8e9b-e85966893a5a",
     "showTitle": false,
     "tableResultSettingsMap": {},
     "title": ""
    }
   },
   "outputs": [],
   "source": [
    "# Create Bronze Delta table and save our test data\n",
    "# Convert bronze_rows to PySpark DataFrame\n",
    "bronze_df = spark.createDataFrame(bronze_rows, bronze_schema)\n",
    "\n",
    "# Display the DataFrame structure and sample data\n",
    "bronze_df.printSchema()\n",
    "bronze_df.show(3)"
   ]
  },
  {
   "cell_type": "code",
   "execution_count": 0,
   "metadata": {
    "application/vnd.databricks.v1+cell": {
     "cellMetadata": {
      "byteLimit": 2048000,
      "rowLimit": 10000
     },
     "inputWidgets": {},
     "nuid": "b0100900-1647-4e5d-a15f-86c22655f91c",
     "showTitle": false,
     "tableResultSettingsMap": {},
     "title": ""
    }
   },
   "outputs": [],
   "source": [
    "# Create temporary view instead of persistent Delta table (Free Edition workaround)\n",
    "bronze_df.createOrReplaceTempView(\"bronze_market_data\")\n",
    "\n",
    "# Verify the view was created and query it\n",
    "result = spark.sql(\"SELECT COUNT(*) as row_count FROM bronze_market_data\")\n",
    "row_count = result.collect()[0]['row_count']\n",
    "\n",
    "print(f\"✅ Temporary view created with {row_count} rows\")\n",
    "\n",
    "# Show sample data from the view\n",
    "spark.sql(\"SELECT symbol, date, close, data_source FROM bronze_market_data ORDER BY date\").show()"
   ]
  }
 ],
 "metadata": {
  "application/vnd.databricks.v1+notebook": {
   "computePreferences": null,
   "dashboards": [],
   "environmentMetadata": {
    "base_environment": "",
    "environment_version": "2"
   },
   "inputWidgetPreferences": null,
   "language": "python",
   "notebookMetadata": {
    "pythonIndentUnit": 4
   },
   "notebookName": "01_Bronze_Data_Ingestion",
   "widgets": {}
  },
  "language_info": {
   "name": "python"
  }
 },
 "nbformat": 4,
 "nbformat_minor": 0
}
