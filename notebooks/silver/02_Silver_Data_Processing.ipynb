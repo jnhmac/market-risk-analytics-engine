{
 "cells": [
  {
   "cell_type": "markdown",
   "metadata": {
    "application/vnd.databricks.v1+cell": {
     "cellMetadata": {
      "byteLimit": 2048000,
      "rowLimit": 10000
     },
     "inputWidgets": {},
     "nuid": "9381d747-9695-4e37-b1e9-2c63830c015f",
     "showTitle": false,
     "tableResultSettingsMap": {},
     "title": ""
    }
   },
   "source": [
    "# 02 - Silver Data Processing\n",
    "\n",
    "**Purpose:** Transform and clean Bronze layer data into standardized format\n",
    "\n",
    "**Author:** Jonah A.  \n",
    "**Created:** 2025-07-30\n",
    "\n",
    "**Architecture Layer:** Silver (Clean Data)\n",
    "\n",
    "**Input:** Bronze layer temporary view `bronze_market_data`  \n",
    "**Output:** `silver_daily_prices` view with validated, cleaned data\n",
    "\n",
    "**Business Value:** Quality-assured market data ready for risk analytics"
   ]
  },
  {
   "cell_type": "code",
   "execution_count": 0,
   "metadata": {
    "application/vnd.databricks.v1+cell": {
     "cellMetadata": {
      "byteLimit": 2048000,
      "rowLimit": 10000
     },
     "inputWidgets": {},
     "nuid": "053d549f-227c-4a6a-bc38-6fa6298ae460",
     "showTitle": false,
     "tableResultSettingsMap": {},
     "title": ""
    }
   },
   "outputs": [],
   "source": [
    "%pip install yfinance\n",
    "\n",
    "import yfinance as yf\n",
    "from datetime import datetime\n",
    "from pyspark.sql import Row, functions as F\n",
    "from pyspark.sql.types import *\n",
    "\n",
    "# Download AAPL test data\n",
    "test_data = yf.download(\"AAPL\", period=\"5d\")\n",
    "\n",
    "# Convert to Bronze format\n",
    "bronze_rows = []\n",
    "ingestion_time = datetime.now()\n",
    "\n",
    "for date_idx, row in test_data.iterrows():\n",
    "    bronze_row = Row(\n",
    "        ingestion_timestamp=ingestion_time,\n",
    "        symbol=\"AAPL\",\n",
    "        date=str(date_idx.date()),\n",
    "        open=float(row[('Open', 'AAPL')]),\n",
    "        high=float(row[('High', 'AAPL')]),\n",
    "        low=float(row[('Low', 'AAPL')]),\n",
    "        close=float(row[('Close', 'AAPL')]),\n",
    "        volume=int(row[('Volume', 'AAPL')]),\n",
    "        data_source=\"yahoo_finance\"\n",
    "    )\n",
    "    bronze_rows.append(bronze_row)\n",
    "\n",
    "# Create Bronze DataFrame and temp view\n",
    "bronze_schema = StructType([\n",
    "    StructField(\"ingestion_timestamp\", TimestampType(), True),\n",
    "    StructField(\"symbol\", StringType(), True),\n",
    "    StructField(\"date\", StringType(), True),\n",
    "    StructField(\"open\", DoubleType(), True),\n",
    "    StructField(\"high\", DoubleType(), True),\n",
    "    StructField(\"low\", DoubleType(), True),\n",
    "    StructField(\"close\", DoubleType(), True),\n",
    "    StructField(\"volume\", LongType(), True),\n",
    "    StructField(\"data_source\", StringType(), True)\n",
    "])\n",
    "\n",
    "bronze_df = spark.createDataFrame(bronze_rows, bronze_schema)\n",
    "bronze_df.createOrReplaceTempView(\"bronze_market_data\")\n",
    "\n",
    "print(f\"✅ Bronze data ready for Silver processing: {bronze_df.count()} rows\")"
   ]
  },
  {
   "cell_type": "code",
   "execution_count": 0,
   "metadata": {
    "application/vnd.databricks.v1+cell": {
     "cellMetadata": {
      "byteLimit": 2048000,
      "rowLimit": 10000
     },
     "inputWidgets": {},
     "nuid": "c2afe942-8e4b-4696-8d26-ba037131f0ce",
     "showTitle": false,
     "tableResultSettingsMap": {},
     "title": ""
    }
   },
   "outputs": [],
   "source": [
    "# Silver layer data quality checks\n",
    "print(\"🔍 Silver Layer Data Quality Assessment:\")\n",
    "\n",
    "# Check for missing values\n",
    "bronze_df.select([F.count(F.when(F.col(c).isNull(), c)).alias(c) for c in bronze_df.columns]).show()\n",
    "\n",
    "# Check data types and ranges\n",
    "print(\"\\n📊 Price validation:\")\n",
    "price_stats = bronze_df.select(\n",
    "    F.min(\"close\").alias(\"min_close\"),\n",
    "    F.max(\"close\").alias(\"max_close\"),\n",
    "    F.avg(\"close\").alias(\"avg_close\")\n",
    ").collect()[0]\n",
    "\n",
    "print(f\"Close price range: ${price_stats['min_close']:.2f} - ${price_stats['max_close']:.2f}\")\n",
    "print(f\"Average close: ${price_stats['avg_close']:.2f}\")\n",
    "\n",
    "# Check for duplicate dates\n",
    "duplicate_check = bronze_df.groupBy(\"symbol\", \"date\").count().filter(\"count > 1\")\n",
    "duplicate_count = duplicate_check.count()\n",
    "print(f\"\\n🔄 Duplicate records: {duplicate_count}\")"
   ]
  },
  {
   "cell_type": "code",
   "execution_count": 0,
   "metadata": {
    "application/vnd.databricks.v1+cell": {
     "cellMetadata": {
      "byteLimit": 2048000,
      "rowLimit": 10000
     },
     "inputWidgets": {},
     "nuid": "30f02438-37c6-43a4-9b85-b03b2aa5ed27",
     "showTitle": false,
     "tableResultSettingsMap": {},
     "title": ""
    }
   },
   "outputs": [],
   "source": [
    "# Transform Bronze data to Silver format\n",
    "silver_df = bronze_df.select(\n",
    "    F.col(\"symbol\"),\n",
    "    F.to_date(F.col(\"date\")).alias(\"trading_date\"),          # Convert string to proper date\n",
    "    F.round(F.col(\"open\"), 2).alias(\"open_price\"),           # Round to 2 decimals\n",
    "    F.round(F.col(\"high\"), 2).alias(\"high_price\"),\n",
    "    F.round(F.col(\"low\"), 2).alias(\"low_price\"), \n",
    "    F.round(F.col(\"close\"), 2).alias(\"close_price\"),\n",
    "    F.col(\"volume\").alias(\"trading_volume\"),\n",
    "    F.col(\"data_source\"),\n",
    "    F.col(\"ingestion_timestamp\").alias(\"processed_timestamp\")\n",
    ").orderBy(\"trading_date\")\n",
    "\n",
    "# Create Silver temporary view\n",
    "silver_df.createOrReplaceTempView(\"silver_daily_prices\")\n",
    "\n",
    "print(f\"✅ Silver layer created: {silver_df.count()} rows\")\n",
    "print(\"\\n📊 Silver data sample:\")\n",
    "silver_df.show()"
   ]
  },
  {
   "cell_type": "code",
   "execution_count": 0,
   "metadata": {
    "application/vnd.databricks.v1+cell": {
     "cellMetadata": {
      "byteLimit": 2048000,
      "rowLimit": 10000
     },
     "inputWidgets": {},
     "nuid": "3182e33f-57c3-40b1-b1c0-e81cb0eb4fe0",
     "showTitle": false,
     "tableResultSettingsMap": {},
     "title": ""
    }
   },
   "outputs": [],
   "source": [
    "# Add business calculations to Silver layer\n",
    "from pyspark.sql.window import Window\n",
    "\n",
    "# Define window for calculations (ordered by date for this symbol)\n",
    "window_spec = Window.partitionBy(\"symbol\").orderBy(\"trading_date\")\n",
    "\n",
    "# Calculate business metrics\n",
    "silver_enhanced_df = silver_df.withColumn(\n",
    "    \"daily_return_pct\", \n",
    "    F.round(\n",
    "        ((F.col(\"close_price\") - F.lag(\"close_price\").over(window_spec)) \n",
    "         / F.lag(\"close_price\").over(window_spec) * 100), 4\n",
    "    )\n",
    ").withColumn(\n",
    "    \"price_change_dollar\",\n",
    "    F.round(F.col(\"close_price\") - F.lag(\"close_price\").over(window_spec), 2)\n",
    ").withColumn(\n",
    "    \"volume_ma_3d\",\n",
    "    F.round(F.avg(\"trading_volume\").over(\n",
    "        Window.partitionBy(\"symbol\").orderBy(\"trading_date\").rowsBetween(-2, 0)\n",
    "    ), 0)\n",
    ")\n",
    "\n",
    "# Create enhanced Silver view\n",
    "silver_enhanced_df.createOrReplaceTempView(\"silver_daily_prices_enhanced\")\n",
    "\n",
    "print(\"✅ Silver layer enhanced with business calculations\")\n",
    "print(\"\\n📈 Enhanced Silver data:\")\n",
    "silver_enhanced_df.select(\"symbol\", \"trading_date\", \"close_price\", \"daily_return_pct\", \"price_change_dollar\", \"volume_ma_3d\").show()"
   ]
  }
 ],
 "metadata": {
  "application/vnd.databricks.v1+notebook": {
   "computePreferences": null,
   "dashboards": [],
   "environmentMetadata": {
    "base_environment": "",
    "environment_version": "2"
   },
   "inputWidgetPreferences": null,
   "language": "python",
   "notebookMetadata": {
    "pythonIndentUnit": 4
   },
   "notebookName": "02_Silver_Data_Processing",
   "widgets": {}
  },
  "language_info": {
   "name": "python"
  }
 },
 "nbformat": 4,
 "nbformat_minor": 0
}
